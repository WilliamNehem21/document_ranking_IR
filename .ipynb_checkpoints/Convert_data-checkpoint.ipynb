{
 "cells": [
  {
   "cell_type": "code",
   "execution_count": 16,
   "id": "394f7282",
   "metadata": {},
   "outputs": [],
   "source": [
    "# import library\n",
    "import pandas as pd\n",
    "import matplotlib.pyplot as plt\n",
    "import shutil\n",
    "import os"
   ]
  },
  {
   "cell_type": "code",
   "execution_count": 2,
   "id": "b9dd9ab1",
   "metadata": {},
   "outputs": [],
   "source": [
    "# read data file in tsv\n",
    "df = pd.read_table('/Users/williamnehemia/Documents/Information Retrieval/train.tsv')"
   ]
  },
  {
   "cell_type": "code",
   "execution_count": 3,
   "id": "dab8c290",
   "metadata": {},
   "outputs": [
    {
     "name": "stdout",
     "output_type": "stream",
     "text": [
      "                                                text  label    dataset  \\\n",
      "0  The commemoration was revealed on Whit Monday,...      1  wikipedia   \n",
      "1  Pei's structure set the inflexible shoebox at ...      1  wikipedia   \n",
      "2  The North Pacific right whale seems to happen ...      1  wikipedia   \n",
      "3  There has been a settlement at Bramhall since ...      1  wikipedia   \n",
      "4  After the arrival of the collection, the melod...      1  wikipedia   \n",
      "\n",
      "    method  \n",
      "0  spinbot  \n",
      "1  spinbot  \n",
      "2  spinbot  \n",
      "3  spinbot  \n",
      "4  spinbot  \n"
     ]
    }
   ],
   "source": [
    "# print 5 first row\n",
    "print(df.head())"
   ]
  },
  {
   "cell_type": "code",
   "execution_count": 4,
   "id": "6416def5",
   "metadata": {},
   "outputs": [],
   "source": [
    "# drop other column except the text\n",
    "df = df.drop(columns=['label', 'dataset', 'method'])"
   ]
  },
  {
   "cell_type": "code",
   "execution_count": 5,
   "id": "3078fc05",
   "metadata": {},
   "outputs": [
    {
     "name": "stdout",
     "output_type": "stream",
     "text": [
      "                                                text\n",
      "0  The commemoration was revealed on Whit Monday,...\n",
      "1  Pei's structure set the inflexible shoebox at ...\n",
      "2  The North Pacific right whale seems to happen ...\n",
      "3  There has been a settlement at Bramhall since ...\n",
      "4  After the arrival of the collection, the melod...\n"
     ]
    }
   ],
   "source": [
    "# print 5 first row\n",
    "print(df.head())"
   ]
  },
  {
   "cell_type": "code",
   "execution_count": 6,
   "id": "56ca063c",
   "metadata": {},
   "outputs": [],
   "source": [
    "# method for calculate number of words\n",
    "def count_num_of_words(text):\n",
    "    return len(text.split())"
   ]
  },
  {
   "cell_type": "code",
   "execution_count": 7,
   "id": "f7795a13",
   "metadata": {},
   "outputs": [],
   "source": [
    "# make new column the number of words in text\n",
    "df['num_of_words'] = df['text'].apply(count_num_of_words)"
   ]
  },
  {
   "cell_type": "code",
   "execution_count": 8,
   "id": "d9a3479c",
   "metadata": {},
   "outputs": [
    {
     "name": "stdout",
     "output_type": "stream",
     "text": [
      "                                                text  num_of_words\n",
      "0  The commemoration was revealed on Whit Monday,...           163\n",
      "1  Pei's structure set the inflexible shoebox at ...           182\n",
      "2  The North Pacific right whale seems to happen ...           185\n",
      "3  There has been a settlement at Bramhall since ...           271\n",
      "4  After the arrival of the collection, the melod...           180\n"
     ]
    }
   ],
   "source": [
    "# print 5 first row\n",
    "print(df.head())"
   ]
  },
  {
   "cell_type": "code",
   "execution_count": 9,
   "id": "85ddaa9e",
   "metadata": {},
   "outputs": [
    {
     "data": {
      "image/png": "[encoded data removed]",
      "text/plain": [
       "<Figure size 640x480 with 1 Axes>"
      ]
     },
     "metadata": {},
     "output_type": "display_data"
    }
   ],
   "source": [
    "# generate histogram to see number of words\n",
    "plt.hist(df['num_of_words'], color='skyblue', edgecolor='black')\n",
    "plt.xlabel('Number of Words')\n",
    "plt.ylabel('Frequency')\n",
    "plt.title('Histogram of Number of Words')\n",
    "plt.show()"
   ]
  },
  {
   "cell_type": "code",
   "execution_count": 11,
   "id": "fe6d65b1",
   "metadata": {},
   "outputs": [
    {
     "name": "stdout",
     "output_type": "stream",
     "text": [
      "        num_of_words\n",
      "count  200767.000000\n",
      "mean      149.546345\n",
      "std        61.970328\n",
      "min        11.000000\n",
      "25%       107.000000\n",
      "50%       137.000000\n",
      "75%       177.000000\n",
      "max      1313.000000\n"
     ]
    }
   ],
   "source": [
    "print(df.describe())"
   ]
  },
  {
   "cell_type": "code",
   "execution_count": 12,
   "id": "a44c6935",
   "metadata": {},
   "outputs": [],
   "source": [
    "# drop document that have words less than 200 or more than 300\n",
    "df = df[(df['num_of_words'] >= 200) & (df['num_of_words'] <= 300)]"
   ]
  },
  {
   "cell_type": "code",
   "execution_count": 13,
   "id": "ac0cbc02",
   "metadata": {},
   "outputs": [
    {
     "name": "stdout",
     "output_type": "stream",
     "text": [
      "28223\n"
     ]
    }
   ],
   "source": [
    "# print number of rows\n",
    "print(df.shape[0])"
   ]
  },
  {
   "cell_type": "code",
   "execution_count": 16,
   "id": "2dac9893",
   "metadata": {},
   "outputs": [],
   "source": [
    "# generate txt document\n",
    "idx = 1\n",
    "dir_path = '/Users/williamnehemia/Documents/Information Retrieval/document_ranking_IR/Document/'\n",
    "for index, row in df.iterrows():\n",
    "    with open(dir_path + 'document_' + str(idx) + '.txt', 'w') as file:\n",
    "        file.write(row['text'])\n",
    "    idx += 1"
   ]
  },
  {
   "cell_type": "code",
   "execution_count": null,
   "id": "a3e54b9a",
   "metadata": {},
   "outputs": [],
   "source": [
    "# # method for checking latin characters\n",
    "# def has_non_latin_characters(text):\n",
    "#     latin_characters = 'abcdefghijklmnopqrstuvwxyzABCDEFGHIJKLMNOPQRSTUVWXYZ'\n",
    "#     for char in text:\n",
    "#         if char not in latin_characters and not char.isspace():\n",
    "#             return True\n",
    "#     return False"
   ]
  },
  {
   "cell_type": "code",
   "execution_count": null,
   "id": "1edf8796",
   "metadata": {},
   "outputs": [],
   "source": [
    "# # calculate document that have non latin characters\n",
    "# non_latin = 0\n",
    "# latin = 0\n",
    "# for index, row in df.iterrows():\n",
    "#     check = has_non_latin_characters(row['text'])\n",
    "#     if check:\n",
    "        "
   ]
  },
  {
   "cell_type": "code",
   "execution_count": 19,
   "id": "d71048f8",
   "metadata": {},
   "outputs": [],
   "source": [
    "# only use 1000 document, copy file to another directory\n",
    "files = os.listdir('/Users/williamnehemia/Documents/Information Retrieval/document_ranking_IR/Document')\n",
    "idx = 1\n",
    "for file in files:\n",
    "    if idx <= 100:\n",
    "        source = '/Users/williamnehemia/Documents/Information Retrieval/document_ranking_IR/Document/' + file\n",
    "        destination = '/Users/williamnehemia/Documents/Information Retrieval/document_ranking_IR/Document4/' + file\n",
    "        shutil.copy(source, destination)\n",
    "        idx += 1"
   ]
  },
  {
   "cell_type": "code",
   "execution_count": null,
   "id": "74c67cec",
   "metadata": {},
   "outputs": [],
   "source": []
  }
 ],
 "metadata": {
  "kernelspec": {
   "display_name": "Python 3 (ipykernel)",
   "language": "python",
   "name": "python3"
  },
  "language_info": {
   "codemirror_mode": {
    "name": "ipython",
    "version": 3
   },
   "file_extension": ".py",
   "mimetype": "text/x-python",
   "name": "python",
   "nbconvert_exporter": "python",
   "pygments_lexer": "ipython3",
   "version": "3.11.5"
  }
 },
 "nbformat": 4,
 "nbformat_minor": 5
}
